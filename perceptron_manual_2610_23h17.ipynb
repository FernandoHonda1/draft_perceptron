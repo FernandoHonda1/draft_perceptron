{
 "cells": [
  {
   "cell_type": "code",
   "execution_count": 1,
   "metadata": {},
   "outputs": [],
   "source": [
    "# Perceptron\n",
    "\n",
    "# número máximo de épocas; \n",
    "# pesos iniciais de forma aleatória (seed = 123)\n",
    "# preguiça de achar como usar seed no pseudo rng, escolhi coeficientes eu mesmo\n",
    "\n",
    "import numpy as np\n",
    "import pandas as pd\n",
    "\n",
    "df = pd.DataFrame([[0, 0, 0, 0], [1, 0, 0, 0], [1, 1, 0, 1], [1, 0, 1, 1], [1, 1, 1, 1]],\n",
    "                  columns = ['x0', 'x1', 'x2', 'y'])\n",
    "\n",
    "features = df[['x0', 'x1', 'x2']]\n",
    "label = df['y'] \n",
    "\n",
    "coefs = {'w1':0.2, 'w2':0.1, 'w3':0.05}\n",
    "lrate = 0.1"
   ]
  },
  {
   "cell_type": "code",
   "execution_count": 2,
   "metadata": {},
   "outputs": [],
   "source": [
    "def perceptron():\n",
    "    # 0. obtendo predições\n",
    "    d = {}\n",
    "    count = 0\n",
    "    cf = list(coefs.values())\n",
    "    for n in range(len(features)):\n",
    "        row = features.iloc[n]\n",
    "        d[count] = {'pred':round(sum(row * cf)), 'true':label.iloc[n]}\n",
    "        count += 1\n",
    "    # 1. buscando pelo primeiro valor errado (observação) , condição de parada (cem por cento de acerto)     \n",
    "    lista = []\n",
    "    for key in d.keys():\n",
    "        data = d[key]\n",
    "        if data['pred'] != data['true']:\n",
    "            lista.append(key)  \n",
    "            \n",
    "    if len(lista) == 0:\n",
    "        return 'acabou'      \n",
    "    \n",
    "    revisit_start = min(lista)\n",
    "\n",
    "    # 2. fazendo ajuste à partir da observação errada, redefinindo coeficientes\n",
    "    rev = features.iloc[revisit_start]\n",
    "    new_coefs = []\n",
    "    for n in range(len(rev)):\n",
    "        new_coefs.append(cf[n] + lrate * rev[n] * (label.iloc[revisit_start] - d[revisit_start]['pred']))    \n",
    "    coefs['w1'] = new_coefs[0]\n",
    "    coefs['w2'] = new_coefs[1]\n",
    "    coefs['w3'] = new_coefs[2]\n",
    "    return coefs"
   ]
  },
  {
   "cell_type": "code",
   "execution_count": 3,
   "metadata": {},
   "outputs": [
    {
     "data": {
      "text/plain": [
       "{'w1': 0.2, 'w2': 0.1, 'w3': 0.05}"
      ]
     },
     "execution_count": 3,
     "metadata": {},
     "output_type": "execute_result"
    }
   ],
   "source": [
    "# iterações -> 0\n",
    "coefs"
   ]
  },
  {
   "cell_type": "code",
   "execution_count": 4,
   "metadata": {},
   "outputs": [
    {
     "data": {
      "text/plain": [
       "{'w1': 0.30000000000000004, 'w2': 0.2, 'w3': 0.05}"
      ]
     },
     "execution_count": 4,
     "metadata": {},
     "output_type": "execute_result"
    }
   ],
   "source": [
    "# iterações -> 1\n",
    "coefs = perceptron()\n",
    "coefs"
   ]
  },
  {
   "cell_type": "code",
   "execution_count": 5,
   "metadata": {},
   "outputs": [
    {
     "data": {
      "text/plain": [
       "{'w1': 0.4, 'w2': 0.30000000000000004, 'w3': 0.05}"
      ]
     },
     "execution_count": 5,
     "metadata": {},
     "output_type": "execute_result"
    }
   ],
   "source": [
    "# iterações -> 2\n",
    "coefs = perceptron()\n",
    "coefs"
   ]
  },
  {
   "cell_type": "code",
   "execution_count": 6,
   "metadata": {},
   "outputs": [
    {
     "data": {
      "text/plain": [
       "{'w1': 0.5, 'w2': 0.30000000000000004, 'w3': 0.15000000000000002}"
      ]
     },
     "execution_count": 6,
     "metadata": {},
     "output_type": "execute_result"
    }
   ],
   "source": [
    "# iterações -> 3\n",
    "coefs = perceptron()\n",
    "coefs"
   ]
  },
  {
   "cell_type": "code",
   "execution_count": 7,
   "metadata": {},
   "outputs": [
    {
     "data": {
      "text/plain": [
       "'acabou'"
      ]
     },
     "execution_count": 7,
     "metadata": {},
     "output_type": "execute_result"
    }
   ],
   "source": [
    "# iterações -> 4\n",
    "coefs = perceptron()\n",
    "coefs"
   ]
  },
  {
   "cell_type": "code",
   "execution_count": null,
   "metadata": {},
   "outputs": [],
   "source": []
  }
 ],
 "metadata": {
  "kernelspec": {
   "display_name": "Python 3",
   "language": "python",
   "name": "python3"
  },
  "language_info": {
   "codemirror_mode": {
    "name": "ipython",
    "version": 3
   },
   "file_extension": ".py",
   "mimetype": "text/x-python",
   "name": "python",
   "nbconvert_exporter": "python",
   "pygments_lexer": "ipython3",
   "version": "3.7.4"
  }
 },
 "nbformat": 4,
 "nbformat_minor": 2
}
