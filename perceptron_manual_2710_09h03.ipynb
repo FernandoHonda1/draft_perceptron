{
 "cells": [
  {
   "cell_type": "code",
   "execution_count": 1,
   "metadata": {},
   "outputs": [],
   "source": [
    "# número máximo de épocas; \n",
    "# pesos iniciais de forma aleatória (seed = 123)\n",
    "# preguiça de achar como usar seed no pseudo rng, escolhi coeficientes eu mesmo\n",
    "# ínidice do dataframe 'ordenado'\n",
    "\n",
    "import numpy as np\n",
    "import pandas as pd\n",
    "\n",
    "df = pd.DataFrame([[0, 0, 0, 0], [1, 0, 0, 0], [1, 1, 0, 1], [1, 0, 1, 1], [1, 1, 1, 1]],\n",
    "                  columns = ['x0', 'x1', 'x2', 'y'])"
   ]
  },
  {
   "cell_type": "code",
   "execution_count": 2,
   "metadata": {},
   "outputs": [],
   "source": [
    "# params\n",
    "\n",
    "g_coefs = [0.2, 0.1, 0.05]\n",
    "\n",
    "g_threshold = 0.5\n",
    "g_upper = 1\n",
    "g_lower = 0\n",
    "\n",
    "g_lrate = 0.1\n",
    "\n",
    "g_feats = df[['x0', 'x1', 'x2']]\n",
    "g_label = df['y']"
   ]
  },
  {
   "cell_type": "code",
   "execution_count": 3,
   "metadata": {},
   "outputs": [],
   "source": [
    "def get_errors(feature_matrix, label, coefficients, threshold, upper, lower): \n",
    "    count = 0\n",
    "    pred_dict = {}\n",
    "    error_ids = []\n",
    "    \n",
    "    for n in range(len(coefficients)): # calculando e limiarizando predições \n",
    "        \n",
    "        predicted = round(sum(feature_matrix.iloc[n] * coefficients))\n",
    "        \n",
    "        if predicted >= threshold:\n",
    "            predicted = upper\n",
    "        else:\n",
    "            predicted = lower\n",
    "            \n",
    "        pred_dict[count] = {'predicted' : predicted, 'actual' : label.iloc[n]}\n",
    "        count += 1\n",
    "        \n",
    "    for key in pred_dict.keys():                        # comparando predições com valores verdadeiros\n",
    "        if pred_dict[key]['predicted'] != pred_dict[key]['actual']:\n",
    "            error_ids.append(key)  \n",
    "            \n",
    "    if len(error_ids) == 0:                       # condição de parada (convergência)\n",
    "        return None, coefficients, pred_dict      \n",
    "    else:\n",
    "        return min(error_ids), coefficients, pred_dict \n",
    "    # caso haja erro, retorna por onde deve começar a 'revisitar'\n",
    "\n",
    "def coefficient_optimization(error_id, coef_list, pred_dict, learning_rate, feature_matrix, label): \n",
    "    # 'revisita' (na primeira predição errada)\n",
    "\n",
    "    if error_id == None: # interpreta condição de parada implementada na função anterior\n",
    "        return 'stop', coef_list\n",
    "\n",
    "    bad_row = feature_matrix.iloc[error_id] # otimiza coeficiente, à partir da observação errada\n",
    "    new_coefs = []\n",
    "    for n in range(len(bad_row)): # 'bad_row' é uma 'series'\n",
    "        new_coefs.append(coef_list[n] + learning_rate * bad_row[n] * \\\n",
    "                         (label.iloc[error_id] - pred_dict[error_id]['predicted']))    \n",
    "        \n",
    "    return 'go', new_coefs"
   ]
  },
  {
   "cell_type": "code",
   "execution_count": 4,
   "metadata": {},
   "outputs": [
    {
     "name": "stdout",
     "output_type": "stream",
     "text": [
      "go [0.30000000000000004, 0.2, 0.05]\n"
     ]
    }
   ],
   "source": [
    "# draft\n",
    "# error_id, coef_list, pred_dict = get_errors(g_feats, g_label, g_coefs, g_threshold, g_upper, g_lower)\n",
    "# go, new_coefs = coefficient_optimization(error_id, coef_list, pred_dict, g_lrate, g_feats, g_label) \n",
    "# print(go, new_coefs)\n",
    "\n",
    "# error_id, coef_list, pred_dict = get_errors(g_feats, g_label, new_coefs, g_threshold, g_upper, g_lower)\n",
    "# go, new_coefs = coefficient_optimization(error_id, coef_list, pred_dict, g_lrate, g_feats, g_label) \n",
    "# print(go, new_coefs)\n",
    "\n",
    "# error_id, coef_list, pred_dict = get_errors(g_feats, g_label, new_coefs, g_threshold, g_upper, g_lower)\n",
    "# go, new_coefs = coefficient_optimization(error_id, coef_list, pred_dict, g_lrate, g_feats, g_label) \n",
    "# print(go, new_coefs)"
   ]
  },
  {
   "cell_type": "code",
   "execution_count": 4,
   "metadata": {},
   "outputs": [
    {
     "name": "stdout",
     "output_type": "stream",
     "text": [
      "[0.4, 0.30000000000000004, 0.05]\n"
     ]
    }
   ],
   "source": [
    "g_coefs = [0.2, 0.1, 0.05]\n",
    "go = 'go'\n",
    "while True:\n",
    "    if go == 'go':\n",
    "        error_id, coef_list, pred_dict = get_errors(g_feats, g_label, g_coefs, g_threshold, g_upper, g_lower)\n",
    "        go, new_coefs = coefficient_optimization(error_id, coef_list, pred_dict, g_lrate, g_feats, g_label) \n",
    "        g_coefs = new_coefs\n",
    "    elif go == 'stop':\n",
    "        print(new_coefs)\n",
    "        break"
   ]
  },
  {
   "cell_type": "code",
   "execution_count": null,
   "metadata": {},
   "outputs": [],
   "source": []
  }
 ],
 "metadata": {
  "kernelspec": {
   "display_name": "Python 3",
   "language": "python",
   "name": "python3"
  },
  "language_info": {
   "codemirror_mode": {
    "name": "ipython",
    "version": 3
   },
   "file_extension": ".py",
   "mimetype": "text/x-python",
   "name": "python",
   "nbconvert_exporter": "python",
   "pygments_lexer": "ipython3",
   "version": "3.7.4"
  }
 },
 "nbformat": 4,
 "nbformat_minor": 2
}
