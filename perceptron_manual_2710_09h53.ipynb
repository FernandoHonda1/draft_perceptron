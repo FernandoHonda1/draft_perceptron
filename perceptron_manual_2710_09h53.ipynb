{
 "cells": [
  {
   "cell_type": "code",
   "execution_count": 1,
   "metadata": {},
   "outputs": [],
   "source": [
    "import random\n",
    "import numpy as np\n",
    "import pandas as pd\n",
    "\n",
    "df = pd.DataFrame([[0, 0, 0, 0], [1, 0, 0, 0], [1, 1, 0, 1], [1, 0, 1, 1], [1, 1, 1, 1]],\n",
    "                  columns = ['x0', 'x1', 'x2', 'y'])"
   ]
  },
  {
   "cell_type": "code",
   "execution_count": 2,
   "metadata": {},
   "outputs": [],
   "source": [
    "def get_errors(feature_matrix, label, coefficients, threshold, upper, lower): \n",
    "    \n",
    "    count = 0\n",
    "    pred_dict = {}\n",
    "    error_ids = []\n",
    "    \n",
    "    for n in range(len(coefficients)): # calculando e limiarizando predições \n",
    "        predicted = round(sum(feature_matrix.iloc[n] * coefficients))\n",
    "        \n",
    "        if predicted >= threshold:\n",
    "            predicted = upper\n",
    "        else:\n",
    "            predicted = lower\n",
    "            \n",
    "        pred_dict[count] = {'predicted' : predicted, 'actual' : label.iloc[n]}\n",
    "        count += 1\n",
    "        \n",
    "    for key in pred_dict.keys():                        # comparando predições com valores verdadeiros\n",
    "        if pred_dict[key]['predicted'] != pred_dict[key]['actual']:\n",
    "            error_ids.append(key)  \n",
    "            \n",
    "    if len(error_ids) == 0:                       # condição de parada (convergência)\n",
    "        return None, coefficients, pred_dict      \n",
    "    else:\n",
    "        return min(error_ids), coefficients, pred_dict \n",
    "    # caso haja erro, retorna por onde deve começar a 'revisitar'\n",
    "\n",
    "def coefficient_optimization(error_id, coef_list, pred_dict, learning_rate, feature_matrix, label): \n",
    "    # 'revisita' (na primeira predição errada)\n",
    "    if error_id == None: # interpreta condição de parada implementada na função anterior\n",
    "        return 'stop', coef_list\n",
    "\n",
    "    bad_row = feature_matrix.iloc[error_id] # otimiza coeficiente, à partir da observação errada\n",
    "    new_coefs = []\n",
    "    for n in range(len(bad_row)): # 'bad_row' é uma 'series'\n",
    "        new_coefs.append(coef_list[n] + learning_rate * bad_row[n] * \\\n",
    "                         (label.iloc[error_id] - pred_dict[error_id]['predicted']))    \n",
    "        \n",
    "    return 'go', new_coefs\n",
    "\n",
    "def perceptron(feature_matrix, label, coefficients, learning_rate, threshold, upper, lower, max_epoch):\n",
    "    \n",
    "    go = 'go'\n",
    "    epoch = 0\n",
    "    while True:\n",
    "\n",
    "        if go == 'go':\n",
    "            error_id, coef_list, pred_dict = get_errors(feature_matrix, label, coefficients, \n",
    "                                                        threshold, upper, lower)\n",
    "            go, new_coefs = coefficient_optimization(error_id, coef_list, pred_dict,\n",
    "                                                     learning_rate, feature_matrix, label) \n",
    "            coefficients = new_coefs\n",
    "            epoch += 1\n",
    "\n",
    "            if go == 'stop' or epoch == max_epoch:\n",
    "\n",
    "                if epoch == max_epoch and go != 'stop':\n",
    "                    print('max_epoch reached, no convergence', new_coefs)\n",
    "                    break\n",
    "                    \n",
    "                elif epoch != max_epoch and go == 'stop':\n",
    "                    print('convergence achieved', new_coefs)    \n",
    "                    break\n",
    "                    \n",
    "                elif go == 'stop' and epoch == max_epoch:\n",
    "                    print('convergence achieved, max_epoch reached', new_coefs)\n",
    "                    break"
   ]
  },
  {
   "cell_type": "code",
   "execution_count": 3,
   "metadata": {},
   "outputs": [
    {
     "name": "stdout",
     "output_type": "stream",
     "text": [
      "max_epoch reached, no convergence [-0.19600000000000004, -0.12599999999999995, -0.18599999999999928]\n"
     ]
    }
   ],
   "source": [
    "# k -> número de variáveis explicativas\n",
    "# posso usar o random com 'range' ?\n",
    "\n",
    "# ínidice do dataframe 'ordenado' (não sei se convém fazer o tratamento, esperar que a função funcione caso o\n",
    "# índice do dataframe estivesse em outro formato)\n",
    "\n",
    "# acho que está pronto, posso arrumar nomes de variáveis e retorno da função, apresentar predições ?\n",
    "\n",
    "seed = 123\n",
    "random.seed(a = seed)\n",
    "coefficients = random.choices(population = np.arange(start = -1, stop = 1, step = 0.001), k = 3)\n",
    "\n",
    "perceptron(coefficients = coefficients,\n",
    "           threshold = 0.5,\n",
    "           upper = 1,\n",
    "           lower = 0,\n",
    "           learning_rate = 0.1,\n",
    "           feature_matrix = df[['x0', 'x1', 'x2']],\n",
    "           label = df['y'],\n",
    "           max_epoch = 7)"
   ]
  },
  {
   "cell_type": "code",
   "execution_count": null,
   "metadata": {},
   "outputs": [],
   "source": []
  }
 ],
 "metadata": {
  "kernelspec": {
   "display_name": "Python 3",
   "language": "python",
   "name": "python3"
  },
  "language_info": {
   "codemirror_mode": {
    "name": "ipython",
    "version": 3
   },
   "file_extension": ".py",
   "mimetype": "text/x-python",
   "name": "python",
   "nbconvert_exporter": "python",
   "pygments_lexer": "ipython3",
   "version": "3.7.4"
  }
 },
 "nbformat": 4,
 "nbformat_minor": 2
}
