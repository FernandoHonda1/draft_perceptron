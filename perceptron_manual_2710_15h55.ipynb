{
 "cells": [
  {
   "cell_type": "code",
   "execution_count": 1,
   "metadata": {},
   "outputs": [],
   "source": [
    "import random\n",
    "import numpy as np\n",
    "import pandas as pd\n",
    "\n",
    "# dados linearmente separáveis\n",
    "df0 = pd.DataFrame([[0, 0, 0, 0], \n",
    "                    [1, 0, 0, 0],\n",
    "                    [1, 1, 0, 1],\n",
    "                    [1, 0, 1, 1],\n",
    "                    [1, 1, 1, 1]],\n",
    "                    columns = ['x0', 'x1', 'x2', 'y'])\n",
    "\n",
    "# dados linearmente separáveis\n",
    "df1 = pd.DataFrame([[0, 0, 0, 0, 0],\n",
    "                    [0, 0, 1, 0, 0],\n",
    "                    [1, 0, 0, 0, 0],\n",
    "                    [1, 1, 0, 0, 0],\n",
    "                    [1, 0, 1, 0, 0],\n",
    "                    [1, 1, 1, 0, 1],\n",
    "                    [1, 0, 1, 1, 1],\n",
    "                    [1, 1, 1, 1, 1]],\n",
    "                    columns = ['x0', 'x1', 'x2', 'x3', 'y'])\n",
    "\n",
    "# dados não linearmente separáveis\n",
    "df2 = pd.DataFrame([[0, 0, 0, 1],\n",
    "                    [0, 1, 0, 0],\n",
    "                    [0, 0, 1, 0],\n",
    "                    [1, 0, 1, 0],\n",
    "                    [1, 1, 1, 1]],\n",
    "                    columns = ['x0', 'x1', 'x2', 'y'])\n",
    "# semente\n",
    "seed = 123\n",
    "random.seed(seed)"
   ]
  },
  {
   "cell_type": "code",
   "execution_count": 2,
   "metadata": {},
   "outputs": [],
   "source": [
    "def get_errors(feature_matrix, label, coefficients, threshold, upper, lower): \n",
    "    \n",
    "    count = 0\n",
    "    pred_dict = {}\n",
    "    for n in range(len(coefficients)): # calculando e limiarizando predições \n",
    "        predicted = round(sum(feature_matrix.iloc[n] * coefficients))\n",
    "        \n",
    "        if predicted >= threshold:\n",
    "            predicted = upper\n",
    "        else:\n",
    "            predicted = lower\n",
    "        \n",
    "        error_ids = []\n",
    "        pred_dict[count] = {'predicted' : predicted, 'actual' : label.iloc[n]}\n",
    "        count += 1\n",
    "        \n",
    "    for key in pred_dict.keys(): # comparando predições com valores verdadeiros\n",
    "        if pred_dict[key]['predicted'] != pred_dict[key]['actual']:\n",
    "            error_ids.append(key)  \n",
    "            \n",
    "    if len(error_ids) == 0:                       # condição de parada (convergência)\n",
    "        return None, coefficients, pred_dict      \n",
    "    else:\n",
    "        return min(error_ids), coefficients, pred_dict \n",
    "    # caso haja erro, retorna por onde deve começar a 'revisitar'\n",
    "\n",
    "def coefficient_optimization(error_id, coef_list, pred_dict, learning_rate, feature_matrix, label): \n",
    "    # 'revisita' (na primeira predição errada)\n",
    "    if error_id == None: # interpreta condição de parada implementada na função anterior\n",
    "        return 'stop', coef_list\n",
    "\n",
    "    bad_row = feature_matrix.iloc[error_id] # otimiza coeficiente, à partir da observação errada\n",
    "    new_coefs = []\n",
    "    for n in range(len(bad_row)):#'bad_row' é uma 'series', aqui, acesso cada variável explicativa da observação\n",
    "        new_coefs.append(coef_list[n] + learning_rate * bad_row[n] * \\\n",
    "                         (label.iloc[error_id] - pred_dict[error_id]['predicted']))    \n",
    "        \n",
    "    return 'go', new_coefs\n",
    "\n",
    "# esta função executa as duas anteriores e interpreta suas saídas, implementa condição de parada\n",
    "def perceptron(feature_matrix, label, coefficients, learning_rate, threshold, upper, lower, max_epoch):\n",
    "    \n",
    "    run = 'go'\n",
    "    epoch = 0\n",
    "    while True:\n",
    "        if run == 'go':\n",
    "            \n",
    "            error_id, coef_list, pred_dict = get_errors(feature_matrix, label, coefficients, \n",
    "                                                        threshold, upper, lower)\n",
    "            \n",
    "            run, new_coefs = coefficient_optimization(error_id, coef_list, pred_dict,\n",
    "                                                     learning_rate, feature_matrix, label) \n",
    "            coefficients = new_coefs\n",
    "            epoch += 1\n",
    "\n",
    "            if epoch == max_epoch and run != 'stop':\n",
    "                return new_coefs, 'max_epoch reached, no convergence'\n",
    "\n",
    "            elif epoch != max_epoch and run == 'stop':  \n",
    "                return new_coefs, 'convergence achieved'\n",
    "\n",
    "            elif epoch == max_epoch and run == 'stop':\n",
    "                return new_coefs, 'max_epoch reached, convergence achieved'"
   ]
  },
  {
   "cell_type": "code",
   "execution_count": 3,
   "metadata": {},
   "outputs": [
    {
     "name": "stdout",
     "output_type": "stream",
     "text": [
      "previous coefficients: [-0.8959999999999999, -0.8259999999999998, -0.18599999999999928]\n",
      "updated coefficients:  [-0.4849999999999999, 1.1020000000000016, -0.9239999999999999]\n",
      "convergence achieved\n"
     ]
    }
   ],
   "source": [
    "# ajuste a df0\n",
    "\n",
    "# coeficientes de df0 não otimizados\n",
    "coefficients0 = random.choices(population = np.arange(start = -1, stop = 1, step = 0.001), k = 3)\n",
    "print(f'previous coefficients: {coefficients0}')\n",
    "# rodando em dados linearmente separáveis\n",
    "coefficients0 = random.choices(population = np.arange(start = -1, stop = 1, step = 0.001), k = 3)\n",
    "coefs0, report0 = perceptron(coefficients = coefficients0, threshold = 0.5, upper = 1, lower = 0,\n",
    "                            learning_rate = 0.1, feature_matrix = df0[['x0', 'x1', 'x2']], label = df0['y'],\n",
    "                            max_epoch = 25)\n",
    "# coeficientes de df0 otimizados\n",
    "print(f'updated coefficients:  {coefs0}')\n",
    "print(report0)"
   ]
  },
  {
   "cell_type": "code",
   "execution_count": 4,
   "metadata": {},
   "outputs": [
    {
     "name": "stdout",
     "output_type": "stream",
     "text": [
      "previous coefficients: [0.07200000000000095, -0.3359999999999994, 0.7040000000000015, -0.6809999999999997]\n",
      "updated coefficients:  [0.07200000000000095, -0.3359999999999994, 0.4040000000000016, -0.6809999999999997]\n",
      "convergence achieved\n"
     ]
    }
   ],
   "source": [
    "# ajuste a df1\n",
    "\n",
    "# coeficientes de df1 não otimizados\n",
    "coefficients1 = random.choices(population = np.arange(start = -1, stop = 1, step = 0.001), k = 4)\n",
    "print(f'previous coefficients: {coefficients1}')\n",
    "# rodando em dados linearmente separáveis\n",
    "coefs1, report1 = perceptron(coefficients = coefficients1, threshold = 0.5, upper = 1, lower = 0, \n",
    "                             learning_rate = 0.1, feature_matrix = df1[['x0', 'x1', 'x2', 'x3']], \n",
    "                             label = df1['y'], max_epoch = 25)\n",
    "# coeficientes de df1 otimizados\n",
    "print(f'updated coefficients:  {coefs1}')\n",
    "print(report1)"
   ]
  },
  {
   "cell_type": "code",
   "execution_count": 5,
   "metadata": {},
   "outputs": [
    {
     "name": "stdout",
     "output_type": "stream",
     "text": [
      "previous coefficients: [-0.3259999999999994, -0.3329999999999994, -0.5099999999999996]\n",
      "updated coefficients:  [-0.3259999999999994, -0.3329999999999994, -0.5099999999999996]\n",
      "max_epoch reached, no convergence\n"
     ]
    }
   ],
   "source": [
    "# ajuste a df2\n",
    "\n",
    "# coeficientes de df2 não otimizados\n",
    "coefficients2 = random.choices(population = np.arange(start = -1, stop = 1, step = 0.001), k = 3)\n",
    "print(f'previous coefficients: {coefficients2}')\n",
    "# rodando em dados não linearmente separáveis\n",
    "coefs2, report2 = perceptron(coefficients = coefficients2, threshold = 0.5, upper = 1, lower = 0, \n",
    "                             learning_rate = 0.1, feature_matrix = df2[['x0', 'x1', 'x2']], label = df2['y'],\n",
    "                             max_epoch = 25)\n",
    "# coeficientes de df2 'otimizados'\n",
    "print(f'updated coefficients:  {coefs2}')\n",
    "print(report2)"
   ]
  },
  {
   "cell_type": "code",
   "execution_count": null,
   "metadata": {},
   "outputs": [],
   "source": []
  }
 ],
 "metadata": {
  "kernelspec": {
   "display_name": "Python 3",
   "language": "python",
   "name": "python3"
  },
  "language_info": {
   "codemirror_mode": {
    "name": "ipython",
    "version": 3
   },
   "file_extension": ".py",
   "mimetype": "text/x-python",
   "name": "python",
   "nbconvert_exporter": "python",
   "pygments_lexer": "ipython3",
   "version": "3.7.4"
  }
 },
 "nbformat": 4,
 "nbformat_minor": 2
}
